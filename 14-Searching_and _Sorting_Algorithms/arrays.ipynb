{
 "cells": [
  {
   "cell_type": "markdown",
   "id": "74a83b3b",
   "metadata": {},
   "source": [
    "#### Arrays\n",
    "##### An array is a collection of elements stored in contigous memory location \n",
    "##### All elements of array of same data type(int,float etc.) \n",
    "##### Array allow for eficient access and munipulation of data."
   ]
  },
  {
   "cell_type": "code",
   "execution_count": 2,
   "id": "a8584f48",
   "metadata": {},
   "outputs": [
    {
     "name": "stdout",
     "output_type": "stream",
     "text": [
      "array('i', [1, 2, 3, 4, 5])\n",
      "array('i', [10, 2, 3, 4, 5])\n"
     ]
    }
   ],
   "source": [
    "import array\n",
    "arr= array.array('i', [1, 2, 3, 4, 5])\n",
    "print(arr)\n",
    "arr[0]=10\n",
    "print(arr)"
   ]
  },
  {
   "cell_type": "code",
   "execution_count": null,
   "id": "fb0c5e8c",
   "metadata": {},
   "outputs": [],
   "source": []
  }
 ],
 "metadata": {
  "kernelspec": {
   "display_name": "Python 3",
   "language": "python",
   "name": "python3"
  },
  "language_info": {
   "codemirror_mode": {
    "name": "ipython",
    "version": 3
   },
   "file_extension": ".py",
   "mimetype": "text/x-python",
   "name": "python",
   "nbconvert_exporter": "python",
   "pygments_lexer": "ipython3",
   "version": "3.13.5"
  }
 },
 "nbformat": 4,
 "nbformat_minor": 5
}
