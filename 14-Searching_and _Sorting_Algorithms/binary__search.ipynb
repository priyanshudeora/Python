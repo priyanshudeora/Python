{
 "cells": [
  {
   "cell_type": "code",
   "execution_count": 4,
   "id": "3d893529",
   "metadata": {},
   "outputs": [
    {
     "name": "stdout",
     "output_type": "stream",
     "text": [
      "4\n"
     ]
    }
   ],
   "source": [
    "def binary_search(arr,target):\n",
    "    s=0\n",
    "    e=len(arr)-1\n",
    "    m=(s+e)//2\n",
    "    while s<=e:\n",
    "        if arr[m]==target:\n",
    "            return m\n",
    "        elif arr[m]<target:\n",
    "            s=m+1\n",
    "        else:\n",
    "            e=m-1\n",
    "        m=(s+e)//2\n",
    "\n",
    "    return -1\n",
    "arr=[10,23,45,50,70,85]\n",
    "tagget=70\n",
    "result=binary_search(arr,tagget)\n",
    "print(result)"
   ]
  }
 ],
 "metadata": {
  "kernelspec": {
   "display_name": "Python 3",
   "language": "python",
   "name": "python3"
  },
  "language_info": {
   "codemirror_mode": {
    "name": "ipython",
    "version": 3
   },
   "file_extension": ".py",
   "mimetype": "text/x-python",
   "name": "python",
   "nbconvert_exporter": "python",
   "pygments_lexer": "ipython3",
   "version": "3.13.5"
  }
 },
 "nbformat": 4,
 "nbformat_minor": 5
}
