{
 "cells": [
  {
   "cell_type": "code",
   "execution_count": 10,
   "id": "f66429f0",
   "metadata": {},
   "outputs": [
    {
     "name": "stdout",
     "output_type": "stream",
     "text": [
      "[11, 12, 22, 25, 34, 90]\n"
     ]
    }
   ],
   "source": [
    "def insertion_sort(arr):\n",
    "    n=len(arr)\n",
    "    for i in range (1,n):\n",
    "        min_index=i\n",
    "        while min_index>=1:\n",
    "            if arr[min_index]<arr[min_index-1]:\n",
    "                arr[min_index],arr[min_index-1]=arr[min_index-1],arr[min_index]\n",
    "            else:\n",
    "                break\n",
    "            min_index=min_index-1\n",
    "    return arr\n",
    "\n",
    "\n",
    "\n",
    "\n",
    "\n",
    "\n",
    "\n",
    "unsorted_list=[12,25,11,34,90,22]\n",
    "sorted_list=insertion_sort(unsorted_list)\n",
    "print(sorted_list)"
   ]
  }
 ],
 "metadata": {
  "kernelspec": {
   "display_name": "Python 3",
   "language": "python",
   "name": "python3"
  },
  "language_info": {
   "codemirror_mode": {
    "name": "ipython",
    "version": 3
   },
   "file_extension": ".py",
   "mimetype": "text/x-python",
   "name": "python",
   "nbconvert_exporter": "python",
   "pygments_lexer": "ipython3",
   "version": "3.13.5"
  }
 },
 "nbformat": 4,
 "nbformat_minor": 5
}
