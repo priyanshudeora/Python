{
 "cells": [
  {
   "cell_type": "code",
   "execution_count": 10,
   "id": "f66429f0",
   "metadata": {},
   "outputs": [
    {
     "name": "stdout",
     "output_type": "stream",
     "text": [
      "[11, 12, 22, 25, 34, 90]\n"
     ]
    }
   ],
   "source": [
    "def insertion_sort(arr):\n",
    "    n=len(arr)\n",
    "    for i in range (1,n):\n",
    "        min_index=i\n",
    "        while min_index>=1:\n",
    "            if arr[min_index]<arr[min_index-1]:\n",
    "                arr[min_index],arr[min_index-1]=arr[min_index-1],arr[min_index]\n",
    "            else:\n",
    "                break\n",
    "            min_index=min_index-1\n",
    "    return arr\n",
    "\n",
    "\n",
    "\n",
    "\n",
    "\n",
    "\n",
    "\n",
    "unsorted_list=[12,25,11,34,90,22]\n",
    "sorted_list=insertion_sort(unsorted_list)\n",
    "print(sorted_list)"
   ]
  },
  {
   "cell_type": "code",
   "execution_count": null,
   "id": "e62e5c74",
   "metadata": {},
   "outputs": [
    {
     "name": "stdout",
     "output_type": "stream",
     "text": [
      "7\n"
     ]
    }
   ],
   "source": [
    "def countNegatives(grid):\n",
    "    n=0\n",
    "    for i in range (0,len(grid)):\n",
    "        for numbers in grid[i]:\n",
    "            if numbers<0:\n",
    "                n=n+1\n",
    "    return n\n",
    "    \n",
    "        \n",
    "grid = [[4, 3, 2, 1], [3, 2, 1, -1], [1, 1, -1, -2], [-1, -1, -2, -3]]\n",
    "print(countNegatives(grid))"
   ]
  },
  {
   "cell_type": "code",
   "execution_count": 4,
   "id": "b5a3c94f",
   "metadata": {},
   "outputs": [
    {
     "name": "stdout",
     "output_type": "stream",
     "text": [
      "8\n"
     ]
    }
   ],
   "source": [
    "import bisect\n",
    "\n",
    "def countNegatives(grid):\n",
    "    rows, cols = len(grid), len(grid[0])\n",
    "    count = 0\n",
    "    \n",
    "    for row in grid:\n",
    "        # binary search to find first negative\n",
    "        # bisect_left finds the index where 0 would be inserted\n",
    "        idx = bisect.bisect_left(row, 0)\n",
    "        \n",
    "        # all elements after idx are negative\n",
    "        count += (cols - idx)\n",
    "    \n",
    "    return count\n",
    "\n",
    "\n",
    "grid = [[4, 3, 2, 1], \n",
    "        [3, 2, 1, -1], \n",
    "        [1, 1, -1, -2], \n",
    "        [-1, -1, -2, -3]]\n",
    "\n",
    "print(countNegatives(grid))  # Output: 7\n"
   ]
  },
  {
   "cell_type": "code",
   "execution_count": null,
   "id": "e25699b0",
   "metadata": {},
   "outputs": [],
   "source": [
    "def binSearch(nums,target,leftBias):\n",
    "    l,r=0,len(nums)-1\n",
    "    i=-1\n",
    "    while l<=r:\n",
    "        m=(l+r)//2\n",
    "        if nums[m]<target:\n",
    "            l=m+1\n",
    "        elif nums[m]>target:\n",
    "            r=m-1\n",
    "        else:\n",
    "            i=m\n",
    "            if leftBias:\n",
    "                r=m-1\n",
    "            else:\n",
    "                l=m+1\n",
    "    return i\n",
    "\n"
   ]
  }
 ],
 "metadata": {
  "kernelspec": {
   "display_name": "Python 3",
   "language": "python",
   "name": "python3"
  },
  "language_info": {
   "codemirror_mode": {
    "name": "ipython",
    "version": 3
   },
   "file_extension": ".py",
   "mimetype": "text/x-python",
   "name": "python",
   "nbconvert_exporter": "python",
   "pygments_lexer": "ipython3",
   "version": "3.13.5"
  }
 },
 "nbformat": 4,
 "nbformat_minor": 5
}
