{
 "cells": [
  {
   "cell_type": "code",
   "execution_count": 3,
   "id": "0f4e5636",
   "metadata": {},
   "outputs": [
    {
     "name": "stdout",
     "output_type": "stream",
     "text": [
      "-1\n"
     ]
    }
   ],
   "source": [
    "def linear_search(arr,target):\n",
    "    size=len(arr)\n",
    "    for i in range (0,size):\n",
    "        if arr[i]==target:\n",
    "            return i\n",
    "    return -1\n",
    "\n",
    "\n",
    "my_list=[10,23,45,70,11]\n",
    "target=71\n",
    "result=linear_search(my_list,target)\n",
    "print(result)"
   ]
  }
 ],
 "metadata": {
  "kernelspec": {
   "display_name": "Python 3",
   "language": "python",
   "name": "python3"
  },
  "language_info": {
   "codemirror_mode": {
    "name": "ipython",
    "version": 3
   },
   "file_extension": ".py",
   "mimetype": "text/x-python",
   "name": "python",
   "nbconvert_exporter": "python",
   "pygments_lexer": "ipython3",
   "version": "3.13.5"
  }
 },
 "nbformat": 4,
 "nbformat_minor": 5
}
