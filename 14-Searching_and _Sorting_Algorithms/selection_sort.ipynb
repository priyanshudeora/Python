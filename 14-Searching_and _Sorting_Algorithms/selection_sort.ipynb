{
 "cells": [
  {
   "cell_type": "code",
   "execution_count": 5,
   "id": "911769e3",
   "metadata": {},
   "outputs": [
    {
     "name": "stdout",
     "output_type": "stream",
     "text": [
      "[11, 12, 22, 25, 34, 90]\n"
     ]
    }
   ],
   "source": [
    "def selection_sort(arr):\n",
    "    n=len(arr)\n",
    "    for i in range (n-1):\n",
    "        \n",
    "        a=i\n",
    "        for j in range (i+1,n):\n",
    "            if arr[j]<arr[a]:\n",
    "                a=j\n",
    "        arr[i],arr[a]=arr[a],arr[i]\n",
    "            \n",
    "    return arr\n",
    "    \n",
    "unsorted_list=[12,25,11,34,90,22]\n",
    "sorted_list=selection_sort(unsorted_list)\n",
    "print(sorted_list)"
   ]
  }
 ],
 "metadata": {
  "kernelspec": {
   "display_name": "Python 3",
   "language": "python",
   "name": "python3"
  },
  "language_info": {
   "codemirror_mode": {
    "name": "ipython",
    "version": 3
   },
   "file_extension": ".py",
   "mimetype": "text/x-python",
   "name": "python",
   "nbconvert_exporter": "python",
   "pygments_lexer": "ipython3",
   "version": "3.13.5"
  }
 },
 "nbformat": 4,
 "nbformat_minor": 5
}
