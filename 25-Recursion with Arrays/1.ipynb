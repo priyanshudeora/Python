{
 "cells": [
  {
   "cell_type": "code",
   "execution_count": 8,
   "id": "0d984f64",
   "metadata": {},
   "outputs": [
    {
     "name": "stdout",
     "output_type": "stream",
     "text": [
      "False\n"
     ]
    }
   ],
   "source": [
    "def checkSorted(arr):\n",
    "    n=len(arr)\n",
    "    if n==0 or n==1:\n",
    "        return True\n",
    "    if arr[0]<arr[1]:\n",
    "        return checkSorted(arr[1:])\n",
    "    else:\n",
    "        return False\n",
    "\n",
    "arr=[6,1,2,3,4,5]\n",
    "print(checkSorted(arr))"
   ]
  },
  {
   "cell_type": "code",
   "execution_count": 9,
   "id": "d9e3455d",
   "metadata": {},
   "outputs": [
    {
     "name": "stdout",
     "output_type": "stream",
     "text": [
      "[20, 30]\n"
     ]
    }
   ],
   "source": [
    "lst = [10, 20, 30]\n",
    "lst.pop(0)\n",
    "print(lst)  # Output: [20, 30]\n",
    "\n",
    "\n",
    "\n",
    "\n",
    "\n",
    "\n"
   ]
  },
  {
   "cell_type": "code",
   "execution_count": 15,
   "id": "aaad6da7",
   "metadata": {},
   "outputs": [
    {
     "name": "stdout",
     "output_type": "stream",
     "text": [
      "15\n"
     ]
    }
   ],
   "source": [
    "def sumArray(arr):\n",
    "    n=len(arr)\n",
    "    if n == 0:\n",
    "        return 0\n",
    "    a=arr.pop(0)\n",
    "    return a+sumArray(arr)\n",
    "\n",
    "arr=[1,2,3,4,5]\n",
    "print(sumArray(arr))"
   ]
  },
  {
   "cell_type": "code",
   "execution_count": 13,
   "id": "dcc6359a",
   "metadata": {},
   "outputs": [
    {
     "name": "stdout",
     "output_type": "stream",
     "text": [
      "1\n"
     ]
    }
   ],
   "source": [
    "arr=[1,2,3,4,5]\n",
    "a=arr.pop(0)\n",
    "print(a)"
   ]
  },
  {
   "cell_type": "code",
   "execution_count": 6,
   "id": "ccf1bb90",
   "metadata": {},
   "outputs": [
    {
     "name": "stdout",
     "output_type": "stream",
     "text": [
      "6\n"
     ]
    }
   ],
   "source": [
    "def firstIndexOfAnElement(l1,x):\n",
    "    if len(l1)==0:\n",
    "        return -1\n",
    "\n",
    "    if (l1[0]==x):\n",
    "        return 0\n",
    "    ans = firstIndexOfAnElement(l1[1:],x)\n",
    "\n",
    "    if ans==-1:\n",
    "        return ans\n",
    "    else :\n",
    "        return ans+1\n",
    "\n",
    "print(firstIndexOfAnElement([3,2,5,2,8,2,1],1))"
   ]
  },
  {
   "cell_type": "code",
   "execution_count": 7,
   "id": "f25612e5",
   "metadata": {},
   "outputs": [
    {
     "name": "stdout",
     "output_type": "stream",
     "text": [
      "6\n"
     ]
    }
   ],
   "source": [
    "print(firstIndexOfAnElement([3,2,5,2,8,2,1],1))"
   ]
  },
  {
   "cell_type": "code",
   "execution_count": 1,
   "id": "284bdbba",
   "metadata": {},
   "outputs": [
    {
     "name": "stdout",
     "output_type": "stream",
     "text": [
      "[1, 3, 5]\n"
     ]
    }
   ],
   "source": [
    "def find_indices(arr, element, index=0):\n",
    "    if len(arr) == 0:\n",
    "        return []\n",
    "    \n",
    "    rest = find_indices(arr[1:], element, index + 1)\n",
    "    \n",
    "    if arr[0] == element:\n",
    "        return [index] + rest\n",
    "    else:\n",
    "        return rest\n",
    "\n",
    "print(find_indices([3, 2, 5, 2, 8, 2, 1], 2))\n"
   ]
  },
  {
   "cell_type": "code",
   "execution_count": 2,
   "id": "7b0f2268",
   "metadata": {},
   "outputs": [
    {
     "name": "stdout",
     "output_type": "stream",
     "text": [
      "[1, 3, 5]\n"
     ]
    }
   ],
   "source": [
    "def UpdateAllIndicesOfAnElementInProvidedList(l1,x,index,ansList):\n",
    "    if len(l1)==index:\n",
    "        return \n",
    "\n",
    "    if l1[index]==x:\n",
    "        ansList.append(index)\n",
    "\n",
    "    UpdateAllIndicesOfAnElementInProvidedList(l1,x,index+1,ansList)\n",
    "\n",
    "ansList=[]\n",
    "(UpdateAllIndicesOfAnElementInProvidedList([3,2,5,2,8,2,1],2,0,ansList))\n",
    "print(ansList)"
   ]
  },
  {
   "cell_type": "code",
   "execution_count": 5,
   "id": "f05d9492",
   "metadata": {},
   "outputs": [],
   "source": [
    "def ReturnAllIndicesAsAList(l1,x,index):\n",
    "    if len(l1)==index:\n",
    "        return []\n",
    "\n",
    "    smallList=ReturnAllIndicesAsAList(l1,x,index+1)\n",
    "\n",
    "    if l1[index]==x:\n",
    "        smallList.append(index)\n",
    "\n",
    "    return smallList"
   ]
  },
  {
   "cell_type": "code",
   "execution_count": null,
   "id": "db9b318a",
   "metadata": {},
   "outputs": [],
   "source": []
  }
 ],
 "metadata": {
  "kernelspec": {
   "display_name": "Python 3",
   "language": "python",
   "name": "python3"
  },
  "language_info": {
   "codemirror_mode": {
    "name": "ipython",
    "version": 3
   },
   "file_extension": ".py",
   "mimetype": "text/x-python",
   "name": "python",
   "nbconvert_exporter": "python",
   "pygments_lexer": "ipython3",
   "version": "3.13.5"
  }
 },
 "nbformat": 4,
 "nbformat_minor": 5
}
