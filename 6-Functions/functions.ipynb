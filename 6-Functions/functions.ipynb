{
 "cells": [
  {
   "cell_type": "code",
   "execution_count": 2,
   "id": "2aa78133",
   "metadata": {},
   "outputs": [],
   "source": [
    "## syntex\n",
    "def function_name(parameters):\n",
    "    # body of the function\n",
    "    return parameters\n"
   ]
  },
  {
   "cell_type": "code",
   "execution_count": 3,
   "id": "ca32002e",
   "metadata": {},
   "outputs": [
    {
     "name": "stdout",
     "output_type": "stream",
     "text": [
      "even\n"
     ]
    }
   ],
   "source": [
    "num=24\n",
    "if num%2==0:\n",
    "    print(\"even\")\n",
    "else:\n",
    "    print(\"odd\")"
   ]
  },
  {
   "cell_type": "code",
   "execution_count": 6,
   "id": "b7bc7151",
   "metadata": {},
   "outputs": [],
   "source": [
    "def even_or_odd(num):\n",
    "    if num%2==0:\n",
    "        print(\"even\")\n",
    "    else:\n",
    "        print(\"odd\")"
   ]
  },
  {
   "cell_type": "code",
   "execution_count": 7,
   "id": "5786775e",
   "metadata": {},
   "outputs": [
    {
     "name": "stdout",
     "output_type": "stream",
     "text": [
      "even\n"
     ]
    }
   ],
   "source": [
    "even_or_odd(24)"
   ]
  },
  {
   "cell_type": "code",
   "execution_count": 8,
   "id": "741bd294",
   "metadata": {},
   "outputs": [],
   "source": [
    "def add(a,b):\n",
    "    return a+b\n"
   ]
  },
  {
   "cell_type": "code",
   "execution_count": 9,
   "id": "e0c1bea4",
   "metadata": {},
   "outputs": [
    {
     "data": {
      "text/plain": [
       "5"
      ]
     },
     "execution_count": 9,
     "metadata": {},
     "output_type": "execute_result"
    }
   ],
   "source": [
    "add(2,3)"
   ]
  },
  {
   "cell_type": "code",
   "execution_count": null,
   "id": "fc2e023f",
   "metadata": {},
   "outputs": [
    {
     "name": "stdout",
     "output_type": "stream",
     "text": [
      "Hello Priyanshu\n",
      "Hello Guest\n"
     ]
    }
   ],
   "source": [
    "def greet(name=\"Guest\"):## default parameter\n",
    "    print(f\"Hello {name}\")\n",
    "\n",
    "greet(\"Priyanshu\")\n",
    "greet()"
   ]
  },
  {
   "cell_type": "code",
   "execution_count": null,
   "id": "6534ec6d",
   "metadata": {},
   "outputs": [],
   "source": [
    "## positional arguments\n",
    "## \n",
    "def print_numbers(*args):\n",
    "    for numbers in args:\n",
    "        print(numbers)"
   ]
  },
  {
   "cell_type": "code",
   "execution_count": 15,
   "id": "20cf3056",
   "metadata": {},
   "outputs": [
    {
     "name": "stdout",
     "output_type": "stream",
     "text": [
      "1\n",
      "2\n",
      "3\n",
      "4\n",
      "5\n",
      "args\n"
     ]
    }
   ],
   "source": [
    "print_numbers(1,2,3,4,5,\"args\")"
   ]
  },
  {
   "cell_type": "code",
   "execution_count": 3,
   "id": "95f625e8",
   "metadata": {},
   "outputs": [],
   "source": [
    "## keywords argument\n",
    "\n",
    "def print_details(**kwargs):\n",
    "    for key,value in kwargs.items():\n",
    "        print(f\"{key}:{value}\")"
   ]
  },
  {
   "cell_type": "code",
   "execution_count": null,
   "id": "c49de9f1",
   "metadata": {},
   "outputs": [
    {
     "name": "stdout",
     "output_type": "stream",
     "text": [
      "name:Priyanshu\n",
      "age:21\n",
      "country:India\n"
     ]
    }
   ],
   "source": [
    "print_details(name=\"Priyanshu\",age=\"21\",country=\"India\")"
   ]
  },
  {
   "cell_type": "code",
   "execution_count": 6,
   "id": "10fb67ba",
   "metadata": {},
   "outputs": [],
   "source": [
    "## keywords argument\n",
    "\n",
    "def print_details(*args,**kwargs):\n",
    "\n",
    "    for numbers in args:\n",
    "        print(f\"Positional argument:{numbers}\")\n",
    "\n",
    "    \n",
    "    for key,value in kwargs.items():\n",
    "        print(f\"{key}:{value}\")"
   ]
  },
  {
   "cell_type": "code",
   "execution_count": 8,
   "id": "2e4cbb61",
   "metadata": {},
   "outputs": [
    {
     "name": "stdout",
     "output_type": "stream",
     "text": [
      "Positional argument:1\n",
      "Positional argument:2\n",
      "Positional argument:3\n",
      "Positional argument:4\n",
      "Positional argument:5\n",
      "Positional argument:Priyanshu\n",
      "name:Priyanshu\n",
      "age:21\n",
      "country:India\n"
     ]
    }
   ],
   "source": [
    "print_details(1,2,3,4,5,\"Priyanshu\",name=\"Priyanshu\",age=\"21\",country=\"India\")"
   ]
  },
  {
   "cell_type": "code",
   "execution_count": 10,
   "id": "7815c73d",
   "metadata": {},
   "outputs": [
    {
     "data": {
      "text/plain": [
       "(6, 2)"
      ]
     },
     "execution_count": 10,
     "metadata": {},
     "output_type": "execute_result"
    }
   ],
   "source": [
    "# Return statement\n",
    "\n",
    "def multiply(a,b):\n",
    "    return a*b,a\n",
    "\n",
    "multiply(2,3)"
   ]
  },
  {
   "cell_type": "code",
   "execution_count": 12,
   "id": "02980e62",
   "metadata": {},
   "outputs": [
    {
     "data": {
      "text/plain": [
       "77.0"
      ]
     },
     "execution_count": 12,
     "metadata": {},
     "output_type": "execute_result"
    }
   ],
   "source": [
    "def convert_temperature(temp,unit):\n",
    "    if unit==\"C\":\n",
    "        return temp*9/5 +32\n",
    "    elif unit==\"F\":\n",
    "        return (temp-32)*5/9\n",
    "    else:\n",
    "        return None\n",
    "\n",
    "convert_temperature(25,\"C\")"
   ]
  },
  {
   "cell_type": "code",
   "execution_count": 14,
   "id": "95610384",
   "metadata": {},
   "outputs": [
    {
     "name": "stdout",
     "output_type": "stream",
     "text": [
      "False\n",
      "True\n"
     ]
    }
   ],
   "source": [
    "def is_password_strong(password):\n",
    "    if len(password)<8:\n",
    "        return False\n",
    "    if not any(char.isdigit() for char in password):\n",
    "        return False\n",
    "    if not any(char.islower() for char in password):\n",
    "        return False\n",
    "    if not any(char.isupper() for char in password):\n",
    "        return False\n",
    "    if not any(char in '!@#$%^&*()_+' for char in password):\n",
    "        return False\n",
    "    return True\n",
    "\n",
    "print(is_password_strong(\"WeakPwd\"))\n",
    "print(is_password_strong(\"Str0ngPwd!\"))"
   ]
  },
  {
   "cell_type": "code",
   "execution_count": 18,
   "id": "3d80cc92",
   "metadata": {},
   "outputs": [],
   "source": [
    "# calculate the factorials using recursion\n",
    "def factorial(n):\n",
    "    if n==0:\n",
    "        return 1\n",
    "    else :\n",
    "        return n*factorial(n-1)"
   ]
  },
  {
   "cell_type": "code",
   "execution_count": 19,
   "id": "67bded49",
   "metadata": {},
   "outputs": [
    {
     "data": {
      "text/plain": [
       "120"
      ]
     },
     "execution_count": 19,
     "metadata": {},
     "output_type": "execute_result"
    }
   ],
   "source": [
    "factorial(5)"
   ]
  },
  {
   "cell_type": "code",
   "execution_count": 29,
   "id": "c77eeec4",
   "metadata": {},
   "outputs": [
    {
     "data": {
      "text/plain": [
       "{'hello': 1,\n",
       " 'world': 1,\n",
       " 'how': 1,\n",
       " 'are': 1,\n",
       " 'you': 1,\n",
       " 'my': 1,\n",
       " 'name': 1,\n",
       " 'is': 1,\n",
       " 'priyanshu': 2}"
      ]
     },
     "execution_count": 29,
     "metadata": {},
     "output_type": "execute_result"
    }
   ],
   "source": [
    "def count_word_frequency(file_path):\n",
    "    word_count={}\n",
    "    with open (file_path,'r') as file:\n",
    "        for line in file:\n",
    "            words=line.split()\n",
    "            for word in words:\n",
    "                word=word.lower().strip('.,!?;:\"\\'')\n",
    "                word_count[word]=word_count.get(word,0)+1\n",
    "    return word_count\n",
    "\n",
    "filepath='sample.txt'\n",
    "count_word_frequency(filepath)"
   ]
  }
 ],
 "metadata": {
  "kernelspec": {
   "display_name": "Python 3",
   "language": "python",
   "name": "python3"
  },
  "language_info": {
   "codemirror_mode": {
    "name": "ipython",
    "version": 3
   },
   "file_extension": ".py",
   "mimetype": "text/x-python",
   "name": "python",
   "nbconvert_exporter": "python",
   "pygments_lexer": "ipython3",
   "version": "3.13.5"
  }
 },
 "nbformat": 4,
 "nbformat_minor": 5
}
